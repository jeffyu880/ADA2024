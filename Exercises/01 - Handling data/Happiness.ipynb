{
 "cells": [
  {
   "cell_type": "markdown",
   "metadata": {},
   "source": [
    "## Data from World Happiness Report\n",
    "\n",
    "The World Happiness Report is an annual publication of the United Nations Sustainable Development Solutions Network. It contains articles, and rankings of national happiness based on respondent ratings of their own lives, which the report also correlates with various life factors.\n",
    "\n",
    "In this notebook we will explore the happiness of different countries and the features associated.\n",
    "The datasets that we will use are available in *Data*: **happiness2020.pkl** and **countries_info.csv**.\n",
    "\n",
    "Although the features are self-explanatory, here a summary: \n",
    "\n",
    "**happiness2020.pkl**\n",
    "* country: *Name of the country*\n",
    "* happiness_score: *Happiness score*\n",
    "* social_support: *Social support (mitigation the effects of inequality)*\n",
    "* healthy_life_expectancy: *Healthy Life Expectancy*\n",
    "* freedom_of_choices: *Freedom to make life choices*\n",
    "* generosity: *Generosity (charity, volunteers)*\n",
    "* perception_of_corruption: *Corruption Perception*\n",
    "* world_region: *Area of the world of the country*\n",
    "\n",
    "**countries_info.csv**\n",
    "* country_name: *Name of the country*\n",
    "* area: *Area in sq mi*\n",
    "* population: *Number of people*\n",
    "* literacy: *Literacy percentage*"
   ]
  },
  {
   "cell_type": "code",
   "execution_count": 1,
   "metadata": {},
   "outputs": [
    {
     "name": "stderr",
     "output_type": "stream",
     "text": [
      "'head' is not recognized as an internal or external command,\n",
      "operable program or batch file.\n"
     ]
    }
   ],
   "source": [
    "!head Data/countries_info.csv"
   ]
  },
  {
   "cell_type": "code",
   "execution_count": 58,
   "metadata": {},
   "outputs": [],
   "source": [
    "import pandas as pd\n",
    "%matplotlib inline\n",
    "\n",
    "DATA_FOLDER = 'Data/'\n",
    "\n",
    "HAPPINESS_DATASET = DATA_FOLDER+\"happiness2020.csv\"\n",
    "COUNTRIES_DATASET = DATA_FOLDER+\"countries_info.csv\""
   ]
  },
  {
   "cell_type": "markdown",
   "metadata": {},
   "source": [
    "## Task 1: Load the data\n",
    "\n",
    "Load the 2 datasets in Pandas dataframes (called *happiness* and *countries*), and show the first rows.\n",
    "\n",
    "\n",
    "**Hint**: Use the correct reader and verify the data has the expected format."
   ]
  },
  {
   "cell_type": "code",
   "execution_count": 59,
   "metadata": {},
   "outputs": [
    {
     "name": "stdout",
     "output_type": "stream",
     "text": [
      "    country_name     area  population literacy\n",
      "0    afghanistan   647500    31056997     36,0\n",
      "1        albania    28748     3581655     86,5\n",
      "2        algeria  2381740    32930091     70,0\n",
      "3      argentina  2766890    39921833     97,1\n",
      "4        armenia    29800     2976372     98,6\n",
      "..           ...      ...         ...      ...\n",
      "130    venezuela   912050    25730435     93,4\n",
      "131      vietnam   329560    84402966     90,3\n",
      "132        yemen   527970    21456188     50,2\n",
      "133       zambia   752614    11502010     80,6\n",
      "134     zimbabwe   390580    12236805     90,7\n",
      "\n",
      "[135 rows x 4 columns]\n",
      "         country  happiness_score  social_support  healthy_life_expectancy  \\\n",
      "0    Afghanistan           2.5669        0.470367                52.590000   \n",
      "1        Albania           4.8827        0.671070                68.708138   \n",
      "2        Algeria           5.0051        0.803385                65.905174   \n",
      "3      Argentina           5.9747        0.900568                68.803802   \n",
      "4        Armenia           4.6768        0.757479                66.750656   \n",
      "..           ...              ...             ...                      ...   \n",
      "130    Venezuela           5.0532        0.890408                66.505341   \n",
      "131      Vietnam           5.3535        0.849987                67.952736   \n",
      "132        Yemen           3.5274        0.817981                56.727283   \n",
      "133       Zambia           3.7594        0.698824                55.299377   \n",
      "134     Zimbabwe           3.2992        0.763093                55.617260   \n",
      "\n",
      "     freedom_of_choices  generosity  perception_of_corruption  \\\n",
      "0              0.396573   -0.096429                  0.933687   \n",
      "1              0.781994   -0.042309                  0.896304   \n",
      "2              0.466611   -0.121105                  0.735485   \n",
      "3              0.831132   -0.194914                  0.842010   \n",
      "4              0.712018   -0.138780                  0.773545   \n",
      "..                  ...         ...                       ...   \n",
      "130            0.623278   -0.169091                  0.837038   \n",
      "131            0.939593   -0.094533                  0.796421   \n",
      "132            0.599920   -0.157735                  0.800288   \n",
      "133            0.806500    0.078037                  0.801290   \n",
      "134            0.711458   -0.072064                  0.810237   \n",
      "\n",
      "                           world_region  \n",
      "0                            South Asia  \n",
      "1            Central and Eastern Europe  \n",
      "2          Middle East and North Africa  \n",
      "3           Latin America and Caribbean  \n",
      "4    Commonwealth of Independent States  \n",
      "..                                  ...  \n",
      "130         Latin America and Caribbean  \n",
      "131                      Southeast Asia  \n",
      "132        Middle East and North Africa  \n",
      "133                  Sub-Saharan Africa  \n",
      "134                  Sub-Saharan Africa  \n",
      "\n",
      "[135 rows x 8 columns]\n"
     ]
    }
   ],
   "source": [
    "# Write your code here\n",
    "countries_data_df = pd.read_csv(COUNTRIES_DATASET)\n",
    "happiness_data_df = pd.read_csv(HAPPINESS_DATASET)\n",
    "\n",
    "print(countries_data_df)\n",
    "print(happiness_data_df)"
   ]
  },
  {
   "cell_type": "markdown",
   "metadata": {},
   "source": [
    "## Task 2: Let's merge the data\n",
    "\n",
    "Create a dataframe called *country_features* by merging *happiness* and *countries*. A row of this dataframe must describe all the features that we have about a country.\n",
    "\n",
    "**Hint**: Verify that all the rows are in the final dataframe."
   ]
  },
  {
   "cell_type": "code",
   "execution_count": 60,
   "metadata": {},
   "outputs": [
    {
     "name": "stdout",
     "output_type": "stream",
     "text": [
      "         country     area  population literacy\n",
      "0    afghanistan   647500    31056997     36,0\n",
      "1        albania    28748     3581655     86,5\n",
      "2        algeria  2381740    32930091     70,0\n",
      "3      argentina  2766890    39921833     97,1\n",
      "4        armenia    29800     2976372     98,6\n",
      "..           ...      ...         ...      ...\n",
      "130    venezuela   912050    25730435     93,4\n",
      "131      vietnam   329560    84402966     90,3\n",
      "132        yemen   527970    21456188     50,2\n",
      "133       zambia   752614    11502010     80,6\n",
      "134     zimbabwe   390580    12236805     90,7\n",
      "\n",
      "[135 rows x 4 columns]\n",
      "       country  happiness_score  social_support  healthy_life_expectancy  \\\n",
      "0  afghanistan           2.5669        0.470367                52.590000   \n",
      "1      albania           4.8827        0.671070                68.708138   \n",
      "2      algeria           5.0051        0.803385                65.905174   \n",
      "3    argentina           5.9747        0.900568                68.803802   \n",
      "4      armenia           4.6768        0.757479                66.750656   \n",
      "\n",
      "   freedom_of_choices  generosity  perception_of_corruption  \\\n",
      "0            0.396573   -0.096429                  0.933687   \n",
      "1            0.781994   -0.042309                  0.896304   \n",
      "2            0.466611   -0.121105                  0.735485   \n",
      "3            0.831132   -0.194914                  0.842010   \n",
      "4            0.712018   -0.138780                  0.773545   \n",
      "\n",
      "                         world_region  \n",
      "0                          South Asia  \n",
      "1          Central and Eastern Europe  \n",
      "2        Middle East and North Africa  \n",
      "3         Latin America and Caribbean  \n",
      "4  Commonwealth of Independent States  \n",
      "       country     area  population literacy  happiness_score  social_support  \\\n",
      "0  afghanistan   647500    31056997     36,0           2.5669        0.470367   \n",
      "1      albania    28748     3581655     86,5           4.8827        0.671070   \n",
      "2      algeria  2381740    32930091     70,0           5.0051        0.803385   \n",
      "3    argentina  2766890    39921833     97,1           5.9747        0.900568   \n",
      "4      armenia    29800     2976372     98,6           4.6768        0.757479   \n",
      "\n",
      "   healthy_life_expectancy  freedom_of_choices  generosity  \\\n",
      "0                52.590000            0.396573   -0.096429   \n",
      "1                68.708138            0.781994   -0.042309   \n",
      "2                65.905174            0.466611   -0.121105   \n",
      "3                68.803802            0.831132   -0.194914   \n",
      "4                66.750656            0.712018   -0.138780   \n",
      "\n",
      "   perception_of_corruption                        world_region  \n",
      "0                  0.933687                          South Asia  \n",
      "1                  0.896304          Central and Eastern Europe  \n",
      "2                  0.735485        Middle East and North Africa  \n",
      "3                  0.842010         Latin America and Caribbean  \n",
      "4                  0.773545  Commonwealth of Independent States  \n"
     ]
    }
   ],
   "source": [
    "countries_data_df=countries_data_df.rename(columns={'country_name' : 'country'})\n",
    "print(countries_data_df)\n",
    "\n",
    "happiness_data_df['country'] = happiness_data_df['country'].str.lower()\n",
    "print(happiness_data_df.head())\n",
    "\n",
    "combined = pd.merge(countries_data_df, happiness_data_df, on='country', how='inner')\n",
    "print(combined.head())\n"
   ]
  },
  {
   "cell_type": "markdown",
   "metadata": {},
   "source": [
    "## Task 3: Where are people happier?\n",
    "\n",
    "Print the top 10 countries based on their happiness score (higher is better)."
   ]
  },
  {
   "cell_type": "code",
   "execution_count": 61,
   "metadata": {},
   "outputs": [
    {
     "data": {
      "text/html": [
       "<div>\n",
       "<style scoped>\n",
       "    .dataframe tbody tr th:only-of-type {\n",
       "        vertical-align: middle;\n",
       "    }\n",
       "\n",
       "    .dataframe tbody tr th {\n",
       "        vertical-align: top;\n",
       "    }\n",
       "\n",
       "    .dataframe thead th {\n",
       "        text-align: right;\n",
       "    }\n",
       "</style>\n",
       "<table border=\"1\" class=\"dataframe\">\n",
       "  <thead>\n",
       "    <tr style=\"text-align: right;\">\n",
       "      <th></th>\n",
       "      <th>country</th>\n",
       "      <th>area</th>\n",
       "      <th>population</th>\n",
       "      <th>literacy</th>\n",
       "      <th>happiness_score</th>\n",
       "      <th>social_support</th>\n",
       "      <th>healthy_life_expectancy</th>\n",
       "      <th>freedom_of_choices</th>\n",
       "      <th>generosity</th>\n",
       "      <th>perception_of_corruption</th>\n",
       "      <th>world_region</th>\n",
       "    </tr>\n",
       "  </thead>\n",
       "  <tbody>\n",
       "    <tr>\n",
       "      <th>38</th>\n",
       "      <td>finland</td>\n",
       "      <td>338145</td>\n",
       "      <td>5231372</td>\n",
       "      <td>100,0</td>\n",
       "      <td>7.8087</td>\n",
       "      <td>0.954330</td>\n",
       "      <td>71.900825</td>\n",
       "      <td>0.949172</td>\n",
       "      <td>-0.059482</td>\n",
       "      <td>0.195445</td>\n",
       "      <td>Western Europe</td>\n",
       "    </tr>\n",
       "    <tr>\n",
       "      <th>31</th>\n",
       "      <td>denmark</td>\n",
       "      <td>43094</td>\n",
       "      <td>5450661</td>\n",
       "      <td>100,0</td>\n",
       "      <td>7.6456</td>\n",
       "      <td>0.955991</td>\n",
       "      <td>72.402504</td>\n",
       "      <td>0.951444</td>\n",
       "      <td>0.066202</td>\n",
       "      <td>0.168489</td>\n",
       "      <td>Western Europe</td>\n",
       "    </tr>\n",
       "    <tr>\n",
       "      <th>115</th>\n",
       "      <td>switzerland</td>\n",
       "      <td>41290</td>\n",
       "      <td>7523934</td>\n",
       "      <td>99,0</td>\n",
       "      <td>7.5599</td>\n",
       "      <td>0.942847</td>\n",
       "      <td>74.102448</td>\n",
       "      <td>0.921337</td>\n",
       "      <td>0.105911</td>\n",
       "      <td>0.303728</td>\n",
       "      <td>Western Europe</td>\n",
       "    </tr>\n",
       "    <tr>\n",
       "      <th>50</th>\n",
       "      <td>iceland</td>\n",
       "      <td>103000</td>\n",
       "      <td>299388</td>\n",
       "      <td>99,9</td>\n",
       "      <td>7.5045</td>\n",
       "      <td>0.974670</td>\n",
       "      <td>73.000000</td>\n",
       "      <td>0.948892</td>\n",
       "      <td>0.246944</td>\n",
       "      <td>0.711710</td>\n",
       "      <td>Western Europe</td>\n",
       "    </tr>\n",
       "    <tr>\n",
       "      <th>92</th>\n",
       "      <td>norway</td>\n",
       "      <td>323802</td>\n",
       "      <td>4610820</td>\n",
       "      <td>100,0</td>\n",
       "      <td>7.4880</td>\n",
       "      <td>0.952487</td>\n",
       "      <td>73.200783</td>\n",
       "      <td>0.955750</td>\n",
       "      <td>0.134533</td>\n",
       "      <td>0.263218</td>\n",
       "      <td>Western Europe</td>\n",
       "    </tr>\n",
       "    <tr>\n",
       "      <th>87</th>\n",
       "      <td>netherlands</td>\n",
       "      <td>41526</td>\n",
       "      <td>16491461</td>\n",
       "      <td>99,0</td>\n",
       "      <td>7.4489</td>\n",
       "      <td>0.939139</td>\n",
       "      <td>72.300919</td>\n",
       "      <td>0.908548</td>\n",
       "      <td>0.207612</td>\n",
       "      <td>0.364717</td>\n",
       "      <td>Western Europe</td>\n",
       "    </tr>\n",
       "    <tr>\n",
       "      <th>114</th>\n",
       "      <td>sweden</td>\n",
       "      <td>449964</td>\n",
       "      <td>9016596</td>\n",
       "      <td>99,0</td>\n",
       "      <td>7.3535</td>\n",
       "      <td>0.926311</td>\n",
       "      <td>72.600769</td>\n",
       "      <td>0.939144</td>\n",
       "      <td>0.111615</td>\n",
       "      <td>0.250880</td>\n",
       "      <td>Western Europe</td>\n",
       "    </tr>\n",
       "    <tr>\n",
       "      <th>88</th>\n",
       "      <td>new zealand</td>\n",
       "      <td>268680</td>\n",
       "      <td>4076140</td>\n",
       "      <td>99,0</td>\n",
       "      <td>7.2996</td>\n",
       "      <td>0.949119</td>\n",
       "      <td>73.202629</td>\n",
       "      <td>0.936217</td>\n",
       "      <td>0.191598</td>\n",
       "      <td>0.221139</td>\n",
       "      <td>North America and ANZ</td>\n",
       "    </tr>\n",
       "    <tr>\n",
       "      <th>6</th>\n",
       "      <td>austria</td>\n",
       "      <td>83870</td>\n",
       "      <td>8192880</td>\n",
       "      <td>98,0</td>\n",
       "      <td>7.2942</td>\n",
       "      <td>0.928046</td>\n",
       "      <td>73.002502</td>\n",
       "      <td>0.899989</td>\n",
       "      <td>0.085429</td>\n",
       "      <td>0.499955</td>\n",
       "      <td>Western Europe</td>\n",
       "    </tr>\n",
       "    <tr>\n",
       "      <th>72</th>\n",
       "      <td>luxembourg</td>\n",
       "      <td>2586</td>\n",
       "      <td>474413</td>\n",
       "      <td>100,0</td>\n",
       "      <td>7.2375</td>\n",
       "      <td>0.906912</td>\n",
       "      <td>72.599998</td>\n",
       "      <td>0.905636</td>\n",
       "      <td>-0.004621</td>\n",
       "      <td>0.367084</td>\n",
       "      <td>Western Europe</td>\n",
       "    </tr>\n",
       "  </tbody>\n",
       "</table>\n",
       "</div>"
      ],
      "text/plain": [
       "         country    area  population literacy  happiness_score  \\\n",
       "38       finland  338145     5231372    100,0           7.8087   \n",
       "31       denmark   43094     5450661    100,0           7.6456   \n",
       "115  switzerland   41290     7523934     99,0           7.5599   \n",
       "50       iceland  103000      299388     99,9           7.5045   \n",
       "92        norway  323802     4610820    100,0           7.4880   \n",
       "87   netherlands   41526    16491461     99,0           7.4489   \n",
       "114       sweden  449964     9016596     99,0           7.3535   \n",
       "88   new zealand  268680     4076140     99,0           7.2996   \n",
       "6        austria   83870     8192880     98,0           7.2942   \n",
       "72    luxembourg    2586      474413    100,0           7.2375   \n",
       "\n",
       "     social_support  healthy_life_expectancy  freedom_of_choices  generosity  \\\n",
       "38         0.954330                71.900825            0.949172   -0.059482   \n",
       "31         0.955991                72.402504            0.951444    0.066202   \n",
       "115        0.942847                74.102448            0.921337    0.105911   \n",
       "50         0.974670                73.000000            0.948892    0.246944   \n",
       "92         0.952487                73.200783            0.955750    0.134533   \n",
       "87         0.939139                72.300919            0.908548    0.207612   \n",
       "114        0.926311                72.600769            0.939144    0.111615   \n",
       "88         0.949119                73.202629            0.936217    0.191598   \n",
       "6          0.928046                73.002502            0.899989    0.085429   \n",
       "72         0.906912                72.599998            0.905636   -0.004621   \n",
       "\n",
       "     perception_of_corruption           world_region  \n",
       "38                   0.195445         Western Europe  \n",
       "31                   0.168489         Western Europe  \n",
       "115                  0.303728         Western Europe  \n",
       "50                   0.711710         Western Europe  \n",
       "92                   0.263218         Western Europe  \n",
       "87                   0.364717         Western Europe  \n",
       "114                  0.250880         Western Europe  \n",
       "88                   0.221139  North America and ANZ  \n",
       "6                    0.499955         Western Europe  \n",
       "72                   0.367084         Western Europe  "
      ]
     },
     "execution_count": 61,
     "metadata": {},
     "output_type": "execute_result"
    }
   ],
   "source": [
    "combined.sort_values(by='happiness_score', ascending=False).head(10)"
   ]
  },
  {
   "cell_type": "markdown",
   "metadata": {},
   "source": [
    "We are interested to know in what world region people are happier. \n",
    "\n",
    "Create and print a dataframe with the (1) average happiness score and (2) the number of contries for each world region.\n",
    "Sort the result to show the happiness ranking."
   ]
  },
  {
   "cell_type": "code",
   "execution_count": 62,
   "metadata": {},
   "outputs": [
    {
     "name": "stdout",
     "output_type": "stream",
     "text": [
      "world_region\n",
      "North America and ANZ                 7.173525\n",
      "Western Europe                        6.967405\n",
      "Latin America and Caribbean           5.971280\n",
      "Central and Eastern Europe            5.891393\n",
      "Southeast Asia                        5.517788\n",
      "East Asia                             5.483633\n",
      "Commonwealth of Independent States    5.358342\n",
      "Middle East and North Africa          5.269306\n",
      "Sub-Saharan Africa                    4.393856\n",
      "South Asia                            4.355083\n",
      "Name: happiness_score, dtype: float64\n"
     ]
    }
   ],
   "source": [
    "region_sort = combined.sort_values(by='world_region')\n",
    "\n",
    "average_happiness_by_region = combined.groupby('world_region')['happiness_score'].mean()\n",
    "average_happiness_by_region = average_happiness_by_region.sort_values(ascending=False)\n",
    "print(average_happiness_by_region)"
   ]
  },
  {
   "cell_type": "markdown",
   "metadata": {},
   "source": [
    "The first region has only a few countries! What are them and what is their score?"
   ]
  },
  {
   "cell_type": "code",
   "execution_count": 63,
   "metadata": {},
   "outputs": [
    {
     "name": "stdout",
     "output_type": "stream",
     "text": [
      "           country     area  population literacy  happiness_score  \\\n",
      "5        australia  7686850    20264082    100,0           7.2228   \n",
      "21          canada  9984670    33098932     97,0           7.2321   \n",
      "88     new zealand   268680     4076140     99,0           7.2996   \n",
      "127  united states  9631420   298444215     97,0           6.9396   \n",
      "\n",
      "     social_support  healthy_life_expectancy  freedom_of_choices  generosity  \\\n",
      "5          0.944855                73.604538            0.915432    0.190460   \n",
      "21         0.927177                73.601601            0.933913    0.124771   \n",
      "88         0.949119                73.202629            0.936217    0.191598   \n",
      "127        0.914219                68.299500            0.842620    0.149892   \n",
      "\n",
      "     perception_of_corruption           world_region  \n",
      "5                    0.415169  North America and ANZ  \n",
      "21                   0.390843  North America and ANZ  \n",
      "88                   0.221139  North America and ANZ  \n",
      "127                  0.699715  North America and ANZ  \n"
     ]
    }
   ],
   "source": [
    "print(combined[combined['world_region'] == 'North America and ANZ'])"
   ]
  },
  {
   "cell_type": "markdown",
   "metadata": {},
   "source": [
    "## Task 4: How literate is the world?\n",
    "\n",
    "Print the names of the countries with a level of literacy of 100%. \n",
    "\n",
    "For each country, print the name and the world region in the format: *{region name} - {country name} ({happiness score})*"
   ]
  },
  {
   "cell_type": "code",
   "execution_count": 78,
   "metadata": {},
   "outputs": [
    {
     "name": "stdout",
     "output_type": "stream",
     "text": [
      "North America and ANZ  -  australia 7.222799778\n",
      "Western Europe  -  denmark 7.645599842\n",
      "Western Europe  -  finland 7.808700085\n",
      "Western Europe  -  luxembourg 7.237500191\n",
      "Western Europe  -  norway 7.487999916000001\n"
     ]
    }
   ],
   "source": [
    "literates = combined[combined['literacy'] =='100,0'].copy()\n",
    "\n",
    "for i in range(len(literates)):\n",
    "    print(literates.iloc[i]['world_region'], ' - ', literates.iloc[i]['country'], literates.iloc[i]['happiness_score'])\n"
   ]
  },
  {
   "cell_type": "markdown",
   "metadata": {},
   "source": [
    "What is the global average?"
   ]
  },
  {
   "cell_type": "code",
   "execution_count": 25,
   "metadata": {},
   "outputs": [
    {
     "name": "stdout",
     "output_type": "stream",
     "text": [
      "       country     area  population literacy  happiness_score  social_support  \\\n",
      "0  afghanistan   647500    31056997     36,0           2.5669        0.470367   \n",
      "1      albania    28748     3581655     86,5           4.8827        0.671070   \n",
      "2      algeria  2381740    32930091     70,0           5.0051        0.803385   \n",
      "3    argentina  2766890    39921833     97,1           5.9747        0.900568   \n",
      "4      armenia    29800     2976372     98,6           4.6768        0.757479   \n",
      "\n",
      "   healthy_life_expectancy  freedom_of_choices  generosity  \\\n",
      "0                52.590000            0.396573   -0.096429   \n",
      "1                68.708138            0.781994   -0.042309   \n",
      "2                65.905174            0.466611   -0.121105   \n",
      "3                68.803802            0.831132   -0.194914   \n",
      "4                66.750656            0.712018   -0.138780   \n",
      "\n",
      "   perception_of_corruption                        world_region  \n",
      "0                  0.933687                          South Asia  \n",
      "1                  0.896304          Central and Eastern Europe  \n",
      "2                  0.735485        Middle East and North Africa  \n",
      "3                  0.842010         Latin America and Caribbean  \n",
      "4                  0.773545  Commonwealth of Independent States  \n",
      "81.85112781954888\n"
     ]
    }
   ],
   "source": [
    "literacy_column = combined['literacy'].str.replace(',', '.')\n",
    "literacy_column = literacy_column.astype(float)\n",
    "\n",
    "print(literacy_column.mean())"
   ]
  },
  {
   "cell_type": "markdown",
   "metadata": {},
   "source": [
    "Calculate the proportion of countries with a literacy level below 50%. Print the value in percentage, formatted with 2 decimals."
   ]
  },
  {
   "cell_type": "code",
   "execution_count": 65,
   "metadata": {},
   "outputs": [
    {
     "name": "stdout",
     "output_type": "stream",
     "text": [
      "proportion of countries under 50%% literacy:  0.11851851851851852\n"
     ]
    }
   ],
   "source": [
    "combinedLitVal = combined.copy()\n",
    "\n",
    "combinedLitVal['literacy'] = combinedLitVal['literacy'].str.replace(',', '.')\n",
    "combinedLitVal['literacy'] = combinedLitVal['literacy'].astype(float)\n",
    "numLiteracylessthan50 = len(combinedLitVal[combinedLitVal['literacy'] < 50.0])\n",
    "print(\"proportion of countries under 50%% literacy: \", numLiteracylessthan50/len(combinedLitVal))\n"
   ]
  },
  {
   "cell_type": "markdown",
   "metadata": {},
   "source": [
    "Print the raw number and the percentage of world population that is illiterate."
   ]
  },
  {
   "cell_type": "code",
   "execution_count": 66,
   "metadata": {},
   "outputs": [
    {
     "name": "stdout",
     "output_type": "stream",
     "text": [
      "total illiterate people worldwide:  124937298810.29997\n",
      "percentage of illiterate people worldwide:  20.329965829650828\n"
     ]
    }
   ],
   "source": [
    "illiteratePeople = combinedLitVal['population'] * (100-combinedLitVal['literacy'])\n",
    "illiteratePeople.sum()\n",
    "print(\"total illiterate people worldwide: \", illiteratePeople.sum())\n",
    "print(\"percentage of illiterate people worldwide: \", illiteratePeople.sum()/combinedLitVal['population'].sum())"
   ]
  },
  {
   "cell_type": "markdown",
   "metadata": {},
   "source": [
    "## Task 5: Population density\n",
    "\n",
    "Add to the dataframe a new field called *population_density* computed by dividing *population* by *area*."
   ]
  },
  {
   "cell_type": "code",
   "execution_count": 67,
   "metadata": {},
   "outputs": [
    {
     "name": "stdout",
     "output_type": "stream",
     "text": [
      "       country     area  population  literacy  happiness_score  \\\n",
      "0  afghanistan   647500    31056997      36.0           2.5669   \n",
      "1      albania    28748     3581655      86.5           4.8827   \n",
      "2      algeria  2381740    32930091      70.0           5.0051   \n",
      "3    argentina  2766890    39921833      97.1           5.9747   \n",
      "4      armenia    29800     2976372      98.6           4.6768   \n",
      "\n",
      "   social_support  healthy_life_expectancy  freedom_of_choices  generosity  \\\n",
      "0        0.470367                52.590000            0.396573   -0.096429   \n",
      "1        0.671070                68.708138            0.781994   -0.042309   \n",
      "2        0.803385                65.905174            0.466611   -0.121105   \n",
      "3        0.900568                68.803802            0.831132   -0.194914   \n",
      "4        0.757479                66.750656            0.712018   -0.138780   \n",
      "\n",
      "   perception_of_corruption                        world_region  \\\n",
      "0                  0.933687                          South Asia   \n",
      "1                  0.896304          Central and Eastern Europe   \n",
      "2                  0.735485        Middle East and North Africa   \n",
      "3                  0.842010         Latin America and Caribbean   \n",
      "4                  0.773545  Commonwealth of Independent States   \n",
      "\n",
      "   population_density  \n",
      "0           47.964474  \n",
      "1          124.587971  \n",
      "2           13.826065  \n",
      "3           14.428413  \n",
      "4           99.878255  \n"
     ]
    }
   ],
   "source": [
    "combinedLitVal['population_density'] = combinedLitVal['population'] / combinedLitVal['area']\n",
    "print(combinedLitVal.head())"
   ]
  },
  {
   "cell_type": "markdown",
   "metadata": {},
   "source": [
    "What is the happiness score of the 3 countries with the lowest population density?"
   ]
  },
  {
   "cell_type": "code",
   "execution_count": 68,
   "metadata": {},
   "outputs": [
    {
     "name": "stdout",
     "output_type": "stream",
     "text": [
      "83    5.4562\n",
      "5     7.2228\n",
      "14    3.4789\n",
      "Name: happiness_score, dtype: float64\n"
     ]
    }
   ],
   "source": [
    "lowest3popDensity = combinedLitVal.sort_values(by='population_density', ascending=True)[0:3]\n",
    "print(lowest3popDensity['happiness_score'])"
   ]
  },
  {
   "cell_type": "markdown",
   "metadata": {},
   "source": [
    "## Task 6: Healty and happy?\n",
    "\n",
    "Plot in a scatter plot the happiness score (x) and healty life expectancy (y)."
   ]
  },
  {
   "cell_type": "code",
   "execution_count": 70,
   "metadata": {},
   "outputs": [
    {
     "data": {
      "image/png": "[encoded data removed]",
      "text/plain": [
       "<Figure size 640x480 with 1 Axes>"
      ]
     },
     "metadata": {},
     "output_type": "display_data"
    }
   ],
   "source": [
    "import seaborn as sb\n",
    "import matplotlib.pyplot as plt\n",
    "\n",
    "\n",
    "sb.scatterplot(data = combinedLitVal, x='happiness_score', y='healthy_life_expectancy')\n",
    "plt.title(\"Happiness Score vs Healthy Life Expectancy\")\n",
    "plt.show()"
   ]
  },
  {
   "cell_type": "markdown",
   "metadata": {},
   "source": [
    "Feel free to continue the exploration of the dataset! We'll release the solutions next week.\n",
    "\n",
    "----\n",
    "Enjoy EPFL and be happy, next year Switzerland must be #1."
   ]
  }
 ],
 "metadata": {
  "kernelspec": {
   "display_name": "Python 3 (ipykernel)",
   "language": "python",
   "name": "python3"
  },
  "language_info": {
   "codemirror_mode": {
    "name": "ipython",
    "version": 3
   },
   "file_extension": ".py",
   "mimetype": "text/x-python",
   "name": "python",
   "nbconvert_exporter": "python",
   "pygments_lexer": "ipython3",
   "version": "3.11.9"
  }
 },
 "nbformat": 4,
 "nbformat_minor": 4
}
